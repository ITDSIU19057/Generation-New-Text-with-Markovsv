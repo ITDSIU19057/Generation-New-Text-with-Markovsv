{
 "cells": [
  {
   "cell_type": "markdown",
   "metadata": {},
   "source": [
    "Text Generation with Markov Chains in Python\n",
    "============================================"
   ]
  },
  {
   "cell_type": "code",
   "execution_count": 62,
   "metadata": {},
   "outputs": [
    {
     "name": "stdout",
     "output_type": "stream",
     "text": [
      "THE GOLDEN BIRD\n",
      "\n",
      "A certain king had a beautiful garden, and in the garden stood a tree\n",
      "which bore golden apples. These apples were always counted, and about\n",
      "the time when they began to grow ripe it was found that every night one\n",
      "of them was gone. The king became very angry at this, and ordered the\n",
      "gardener to keep watch all night under the tree. The gardener set his\n",
      "eldest son to watch; but about twelve o’clock he fell asleep, and in\n",
      "the morning another of the apples was missing. Then the second\n"
     ]
    }
   ],
   "source": [
    "files = ['text/grimm_tales.txt']\n",
    "\n",
    "text = \"\"\n",
    "for f in files:\n",
    "    with open(f, 'r') as f:\n",
    "        text += f.read()\n",
    "print(text[:500])"
   ]
  },
  {
   "cell_type": "code",
   "execution_count": 3,
   "metadata": {},
   "outputs": [],
   "source": [
    "import numpy as np"
   ]
  },
  {
   "cell_type": "code",
   "execution_count": 4,
   "metadata": {},
   "outputs": [
    {
     "data": {
      "text/plain": [
       "517607"
      ]
     },
     "execution_count": 4,
     "metadata": {},
     "output_type": "execute_result"
    }
   ],
   "source": [
    "len(text)"
   ]
  },
  {
   "cell_type": "markdown",
   "metadata": {},
   "source": [
    "Weather as a Markov Chain\n",
    "-------------------------\n",
    "\n",
    "![alt text](images/markov_weather.png \"Weather\")\n",
    "\n",
    "Matrix representation (rows are current state, columns are next state):\n",
    "\n",
    "| | Sunny | Cloudy | Rainy |\n",
    "| --- | --- | --- | --- |\n",
    "| **Sunny** | 0.6 | 0.1 | 0.3 |\n",
    "| **Cloudy** | 0.3 | 0.3 | 0.4 |\n",
    "| **Rainy** | 0.3 | 0.2 | 0.5 |\n"
   ]
  },
  {
   "cell_type": "markdown",
   "metadata": {},
   "source": [
    "Text as a Markov Chain\n",
    "----------------------\n",
    "\n",
    "**The cat ran over the dog.**\n",
    "\n",
    "![alt text](images/markov_text1.png \"Text\")\n",
    "\n",
    "Matrix representation (rows are current state, columns are next state):\n",
    "\n",
    "| | the | cat | ran | over | dog | . |\n",
    "| --- | --- | --- | --- | --- | --- | --- |\n",
    "| **the** | 0 | 0.5 | 0 | 0 | 0.5 | 0 |\n",
    "| **cat** | 0 | 0 | 1 | 0 | 0 | 0 |\n",
    "| **ran** | 0 | 0 | 0 | 1 | 0 | 0 |\n",
    "| **over** | 1 | 0 | 0 | 0 | 0 | 0 |\n",
    "| **dog** | 0 | 0 | 0 | 0 | 0 | 1 |\n",
    "| **.** | 0 | 0 | 0 | 0 | 0 | 1 |\n",
    "\n"
   ]
  },
  {
   "cell_type": "markdown",
   "metadata": {},
   "source": [
    "Define states as the distinct word tokens"
   ]
  },
  {
   "cell_type": "code",
   "execution_count": 61,
   "metadata": {},
   "outputs": [
    {
     "data": {
      "text/plain": [
       "(4700,)"
      ]
     },
     "execution_count": 61,
     "metadata": {},
     "output_type": "execute_result"
    }
   ],
   "source": [
    "import re\n",
    "text = re.sub(\"[^A-z,.!?'\\n]+\", \" \", text)\n",
    "text = re.sub(\"([.,!?])\", r\" \\1 \", text)\n",
    "tokens = text.lower().split()\n",
    "distinct_states =list(set(tokens))\n",
    "np.shape(distinct_states)"
   ]
  },
  {
   "cell_type": "code",
   "execution_count": 46,
   "metadata": {},
   "outputs": [
    {
     "data": {
      "text/plain": [
       "'the'"
      ]
     },
     "execution_count": 46,
     "metadata": {},
     "output_type": "execute_result"
    }
   ],
   "source": [
    "tokens[0]"
   ]
  },
  {
   "cell_type": "markdown",
   "metadata": {},
   "source": [
    "Define transition matrix"
   ]
  },
  {
   "cell_type": "code",
   "execution_count": 47,
   "metadata": {},
   "outputs": [],
   "source": [
    "from scipy.sparse import csr_matrix\n",
    "m = csr_matrix (\n",
    "        (len(distinct_states),len(distinct_states)),\n",
    "        dtype = int\n",
    ")\n",
    "\n",
    "state_index = dict(\n",
    "        [(state,idx_num) for idx_num, state in enumerate(distinct_states)]\n",
    ")"
   ]
  },
  {
   "cell_type": "markdown",
   "metadata": {},
   "source": [
    "Count transitions and fill in transition matrix"
   ]
  },
  {
   "cell_type": "code",
   "execution_count": 48,
   "metadata": {},
   "outputs": [
    {
     "name": "stderr",
     "output_type": "stream",
     "text": [
      "/home/rhyme/.local/lib/python3.6/site-packages/scipy/sparse/_index.py:84: SparseEfficiencyWarning: Changing the sparsity structure of a csr_matrix is expensive. lil_matrix is more efficient.\n",
      "  self._set_intXint(row, col, x.flat[0])\n"
     ]
    }
   ],
   "source": [
    "for i in range (len(tokens)-1):\n",
    "    row = state_index[tokens[i]]\n",
    "    col = state_index[tokens[i+1]]\n",
    "    m[row,col] += 1\n",
    "    "
   ]
  },
  {
   "cell_type": "code",
   "execution_count": 25,
   "metadata": {},
   "outputs": [
    {
     "data": {
      "text/plain": [
       "'acertainkinghadabeautifulgarden,'"
      ]
     },
     "execution_count": 25,
     "metadata": {},
     "output_type": "execute_result"
    }
   ],
   "source": [
    "tokens[1]"
   ]
  },
  {
   "cell_type": "code",
   "execution_count": 9,
   "metadata": {},
   "outputs": [
    {
     "name": "stdout",
     "output_type": "stream",
     "text": [
      "  (0, 2500)\t4\n",
      "  (0, 9566)\t3\n",
      "  (1, 5701)\t1\n",
      "  (1, 8133)\t1\n",
      "  (2, 2500)\t1\n",
      "  (3, 1075)\t1\n",
      "  (3, 2322)\t1\n",
      "  (3, 8832)\t1\n",
      "  (4, 4283)\t1\n",
      "  (4, 5780)\t1\n",
      "  (4, 6264)\t1\n",
      "  (5, 6964)\t1\n",
      "  (5, 8289)\t1\n",
      "  (6, 3434)\t2\n",
      "  (6, 6084)\t1\n",
      "  (7, 350)\t1\n",
      "  (7, 445)\t1\n",
      "  (7, 2804)\t1\n",
      "  (7, 4081)\t1\n",
      "  (7, 4117)\t1\n",
      "  (7, 5876)\t1\n",
      "  (7, 5912)\t3\n",
      "  (7, 6761)\t1\n",
      "  (7, 7556)\t3\n",
      "  (8, 4599)\t1\n",
      "  :\t:\n",
      "  (9681, 8289)\t1\n",
      "  (9682, 2500)\t1\n",
      "  (9683, 2500)\t1\n",
      "  (9683, 6790)\t1\n",
      "  (9684, 6790)\t1\n",
      "  (9685, 1639)\t1\n",
      "  (9685, 7952)\t1\n",
      "  (9686, 6264)\t1\n",
      "  (9687, 3609)\t1\n",
      "  (9687, 6632)\t1\n",
      "  (9688, 3381)\t1\n",
      "  (9689, 3381)\t1\n",
      "  (9689, 6960)\t1\n",
      "  (9689, 8832)\t1\n",
      "  (9689, 8963)\t1\n",
      "  (9690, 2500)\t1\n",
      "  (9691, 2139)\t1\n",
      "  (9691, 5474)\t1\n",
      "  (9692, 3657)\t1\n",
      "  (9692, 8367)\t1\n",
      "  (9693, 2322)\t1\n",
      "  (9694, 2500)\t1\n",
      "  (9695, 6964)\t1\n",
      "  (9696, 4548)\t1\n",
      "  (9697, 6264)\t1\n"
     ]
    }
   ],
   "source": [
    "print(m)"
   ]
  },
  {
   "cell_type": "markdown",
   "metadata": {},
   "source": [
    "Generate new text"
   ]
  },
  {
   "cell_type": "code",
   "execution_count": 49,
   "metadata": {},
   "outputs": [
    {
     "name": "stdout",
     "output_type": "stream",
     "text": [
      "Coat, and beat the wind had killed two wicked and drink, and said, and he, dearest, but determined to throw you without having done, and said lina loved each had to the wild animals were going to follow it is a humming a servant could offer you should like one.\n",
      "\n",
      "And you will beat the evening passed by them out, and was the children, and a tailor went with it we will give you free, and looked at him however little calf always followed the fox had taken up her waving locks but at the cart, to say.\n",
      "\n",
      "So clever elsie still wept with them, for she sat upon a trance then to thy true but as he seized hansel comforted and burnt up their heads, and kissed her journey.\n",
      "\n",
      "\n"
     ]
    }
   ],
   "source": [
    "start_state_index = np.random.randint(len(distinct_states))\n",
    "state = distinct_states[start_state_index]\n",
    "num_sentences = 0\n",
    "output = state.capitalize()\n",
    "capitalize = False\n",
    "\n",
    "while num_sentences < 3:\n",
    "    row = m[state_index[state],:]\n",
    "    probabilities = row/row.sum()\n",
    "    probabilities = probabilities.toarray()[0]\n",
    "    \n",
    "    next_state_index = np.random.choice(\n",
    "        len(distinct_states),\n",
    "        1,\n",
    "        p = probabilities\n",
    "    )\n",
    "    \n",
    "    next_state = distinct_states[next_state_index[0]]\n",
    "    \n",
    "    if next_state in ('.','!','?'):\n",
    "        output += next_state + '\\n\\n'\n",
    "        capitalize = True\n",
    "        num_sentences += 1\n",
    "    elif next_state == \",\":\n",
    "        output += next_state\n",
    "    else :\n",
    "        if capitalize:\n",
    "            output += next_state.capitalize()\n",
    "            capitalize = False\n",
    "        else:\n",
    "            output += \" \" + next_state\n",
    "    \n",
    "    state = next_state\n",
    "    \n",
    "print(output)"
   ]
  },
  {
   "cell_type": "code",
   "execution_count": 11,
   "metadata": {},
   "outputs": [
    {
     "name": "stdout",
     "output_type": "stream",
     "text": [
      "  (0, 105)\t2\n",
      "  (0, 4450)\t1\n",
      "  (0, 9222)\t2\n",
      "  (0, 9566)\t1\n",
      "  (0, 105)\t0.3333333333333333\n",
      "  (0, 4450)\t0.16666666666666666\n",
      "  (0, 9222)\t0.3333333333333333\n",
      "  (0, 9566)\t0.16666666666666666\n",
      "(9698,)\n"
     ]
    }
   ],
   "source": [
    "    row = m[state_index[state],:]\n",
    "    print(row)\n",
    "    probabilities = row/row.sum()\n",
    "    print(probabilities)\n",
    "    probabilities = probabilities.toarray()[0]\n",
    "    print(probabilities.shape)"
   ]
  },
  {
   "cell_type": "markdown",
   "metadata": {},
   "source": [
    "k-Word Markov Chain\n",
    "-------------------\n",
    "\n",
    "**The cat ran over the dog.**\n",
    "\n",
    "![alt text](images/markov_text2.png \"Text\")\n",
    "\n",
    "Matrix representation (rows are current state, columns are next state):\n",
    "\n",
    "| | the cat | cat ran | ran over | over the | the dog | dog. |\n",
    "| --- | --- | --- | --- | --- | --- | --- |\n",
    "| **the cat**  | 0 | 1 | 0 | 0 | 0 | 0 |\n",
    "| **cat ran**  | 0 | 0 | 1 | 0 | 0 | 0 |\n",
    "| **ran over** | 0 | 0 | 0 | 1 | 0 | 0 |\n",
    "| **over the** | 0 | 0 | 0 | 0 | 1 | 0 |\n",
    "| **the dog**  | 0 | 0 | 0 | 0 | 0 | 1 |\n",
    "| **dog.**     | 0 | 0 | 0 | 0 | 0 | 1 |\n",
    "\n"
   ]
  },
  {
   "cell_type": "markdown",
   "metadata": {},
   "source": [
    "Define states as consecutive token pairs"
   ]
  },
  {
   "cell_type": "code",
   "execution_count": 63,
   "metadata": {},
   "outputs": [
    {
     "data": {
      "text/plain": [
       "(37560, 2)"
      ]
     },
     "execution_count": 63,
     "metadata": {},
     "output_type": "execute_result"
    }
   ],
   "source": [
    "k = 2\n",
    "import re\n",
    "text = re.sub(\"[^A-z,.!?'\\n]+\", \" \", text)\n",
    "text = re.sub(\"([.,!?])\", r\" \\1 \", text)\n",
    "tokens = text.lower().split()\n",
    "states = [ tuple(tokens[i:i+k]) for i in range(len(tokens) - k +1)]\n",
    "distinct_states =list(set(states))\n",
    "np.shape(distinct_states)"
   ]
  },
  {
   "cell_type": "code",
   "execution_count": 65,
   "metadata": {},
   "outputs": [
    {
     "data": {
      "text/plain": [
       "('.', 'the')"
      ]
     },
     "execution_count": 65,
     "metadata": {},
     "output_type": "execute_result"
    }
   ],
   "source": [
    "states[35760]"
   ]
  },
  {
   "cell_type": "markdown",
   "metadata": {},
   "source": [
    "Define and fill transition matrix"
   ]
  },
  {
   "cell_type": "code",
   "execution_count": 66,
   "metadata": {},
   "outputs": [],
   "source": [
    "from scipy.sparse import csr_matrix\n",
    "m = csr_matrix (\n",
    "        (len(distinct_states),len(distinct_states)),\n",
    "        dtype = int\n",
    ")\n",
    "\n",
    "state_index = dict(\n",
    "        [(state,idx_num) for idx_num, state in enumerate(distinct_states)]\n",
    ")\n",
    "\n",
    "for i in range (len(tokens)-k):\n",
    "    state = tuple(tokens[i:i+k])\n",
    "    next_state = tuple(tokens[i+1:i+1+k])\n",
    "    row = state_index[state]\n",
    "    col = state_index[next_state]\n",
    "    m[row,col] += 1"
   ]
  },
  {
   "cell_type": "markdown",
   "metadata": {},
   "source": [
    "Generate new text"
   ]
  },
  {
   "cell_type": "code",
   "execution_count": null,
   "metadata": {},
   "outputs": [],
   "source": [
    "start_state_index = np.random.randint(len(distinct_states))\n",
    "state = distinct_states[start_state_index]\n",
    "num_sentences = 0\n",
    "output = ' '.join(state).capitalize()\n",
    "capitalize = False\n",
    "\n",
    "while num_sentences < 3:\n",
    "    row = m[state_index[state],:]\n",
    "    probabilities = row/row.sum()\n",
    "    probabilities = probabilities.toarray()[0]\n",
    "    \n",
    "    next_state_index = np.random.choice(\n",
    "        len(distinct_states),\n",
    "        1,\n",
    "        p = probabilities\n",
    "    )\n",
    "    \n",
    "    next_state = distinct_states[next_state_index[0]]\n",
    "    \n",
    "    if next_state[-1] in ('.','!','?'):\n",
    "        output += next_state[-1] + '\\n\\n'\n",
    "        capitalize = True\n",
    "        num_sentences += 1\n",
    "    elif next_state[-1] == \",\":\n",
    "        output += next_state[-1]\n",
    "    else :\n",
    "        if capitalize:\n",
    "            output += next_state[-1].capitalize()\n",
    "            capitalize = False\n",
    "        else:\n",
    "            output += \" \" + next_state[-1]\n",
    "    \n",
    "    state = next_state\n",
    "    \n",
    "print(output)"
   ]
  },
  {
   "cell_type": "code",
   "execution_count": null,
   "metadata": {},
   "outputs": [],
   "source": []
  }
 ],
 "metadata": {
  "kernelspec": {
   "display_name": "Python 3 (ipykernel)",
   "language": "python",
   "name": "python3"
  },
  "language_info": {
   "codemirror_mode": {
    "name": "ipython",
    "version": 3
   },
   "file_extension": ".py",
   "mimetype": "text/x-python",
   "name": "python",
   "nbconvert_exporter": "python",
   "pygments_lexer": "ipython3",
   "version": "3.9.7"
  }
 },
 "nbformat": 4,
 "nbformat_minor": 4
}
